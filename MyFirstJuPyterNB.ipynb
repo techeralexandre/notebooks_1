{
  "metadata": {
    "kernelspec": {
      "name": "python",
      "display_name": "Python (Pyodide)",
      "language": "python"
    },
    "language_info": {
      "codemirror_mode": {
        "name": "python",
        "version": 3
      },
      "file_extension": ".py",
      "mimetype": "text/x-python",
      "name": "python",
      "nbconvert_exporter": "python",
      "pygments_lexer": "ipython3",
      "version": "3.8"
    }
  },
  "nbformat_minor": 4,
  "nbformat": 4,
  "cells": [
    {
      "cell_type": "markdown",
      "source": "# I) Définition et Représentation d'une Fonction\n\nDans ce notebook, nous allons définir une fonction mathématique, puis la représenter graphiquement à l'aide de la bibliothèque `matplotlib`. On commence donc par importer les bibliothèques nécessaires :\n",
      "metadata": {}
    },
    {
      "cell_type": "code",
      "source": "import numpy as np\nimport matplotlib.pyplot as plt",
      "metadata": {
        "trusted": true
      },
      "outputs": [],
      "execution_count": null
    },
    {
      "cell_type": "markdown",
      "source": "## a-Définition de la fonction\n\nNous allons définir une fonction $f$ simple, par exemple \\( $f(x) = x^2$ \\).\nEn langage Python, cela se fait comme ci-dessous:\n",
      "metadata": {}
    },
    {
      "cell_type": "code",
      "source": "def f(x):\n    return -x ** 2",
      "metadata": {
        "trusted": true
      },
      "outputs": [],
      "execution_count": null
    },
    {
      "cell_type": "markdown",
      "source": "## b-Génération des Données\n\nNous allons maintenant générer des données pour tracer la fonction. Nous utiliserons une gamme de valeurs pour $x$ et calculerons $f(x)$ pour chacune de ces valeurs.\n",
      "metadata": {}
    },
    {
      "cell_type": "code",
      "source": "# Définir une gamme de valeurs pour x\nx = np.linspace(-10, 10, 400)\n# Calculer f(x) pour chaque valeur de x\ny = f(x)\n",
      "metadata": {
        "trusted": true
      },
      "outputs": [],
      "execution_count": null
    },
    {
      "cell_type": "markdown",
      "source": "## c-Représentation Graphique\n\nNous allons maintenant tracer la fonction $f$ en utilisant `matplotlib`.\n",
      "metadata": {}
    },
    {
      "cell_type": "code",
      "source": "%matplotlib inline\nplt.figure(figsize=(8, 6))\nplt.plot(x, y, label='$f(x) = x^2$', color='blue')\nplt.xlabel('$x$')\nplt.ylabel('$f(x)$')\nplt.title('Représentation de la Fonction $f(x) = -x^2$')\nplt.legend()\nplt.grid(True)\nplt.show()\n",
      "metadata": {
        "trusted": true
      },
      "outputs": [],
      "execution_count": null
    },
    {
      "cell_type": "code",
      "source": "",
      "metadata": {
        "trusted": true
      },
      "outputs": [],
      "execution_count": null
    }
  ]
}